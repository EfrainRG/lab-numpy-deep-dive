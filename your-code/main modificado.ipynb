{
 "cells": [
  {
   "cell_type": "code",
   "execution_count": 1,
   "metadata": {},
   "outputs": [],
   "source": [
    "#1. Import the NUMPY package under the name np.\n",
    "import numpy as np"
   ]
  },
  {
   "cell_type": "code",
   "execution_count": 2,
   "metadata": {},
   "outputs": [
    {
     "name": "stdout",
     "output_type": "stream",
     "text": [
      "1.16.5\n",
      "mkl_info:\n",
      "    libraries = ['mkl_rt']\n",
      "    library_dirs = ['C:/ProgramData/Anaconda3\\\\Library\\\\lib']\n",
      "    define_macros = [('SCIPY_MKL_H', None), ('HAVE_CBLAS', None)]\n",
      "    include_dirs = ['C:\\\\Program Files (x86)\\\\IntelSWTools\\\\compilers_and_libraries_2019.0.117\\\\windows\\\\mkl', 'C:\\\\Program Files (x86)\\\\IntelSWTools\\\\compilers_and_libraries_2019.0.117\\\\windows\\\\mkl\\\\include', 'C:\\\\Program Files (x86)\\\\IntelSWTools\\\\compilers_and_libraries_2019.0.117\\\\windows\\\\mkl\\\\lib', 'C:/ProgramData/Anaconda3\\\\Library\\\\include']\n",
      "blas_mkl_info:\n",
      "    libraries = ['mkl_rt']\n",
      "    library_dirs = ['C:/ProgramData/Anaconda3\\\\Library\\\\lib']\n",
      "    define_macros = [('SCIPY_MKL_H', None), ('HAVE_CBLAS', None)]\n",
      "    include_dirs = ['C:\\\\Program Files (x86)\\\\IntelSWTools\\\\compilers_and_libraries_2019.0.117\\\\windows\\\\mkl', 'C:\\\\Program Files (x86)\\\\IntelSWTools\\\\compilers_and_libraries_2019.0.117\\\\windows\\\\mkl\\\\include', 'C:\\\\Program Files (x86)\\\\IntelSWTools\\\\compilers_and_libraries_2019.0.117\\\\windows\\\\mkl\\\\lib', 'C:/ProgramData/Anaconda3\\\\Library\\\\include']\n",
      "blas_opt_info:\n",
      "    libraries = ['mkl_rt']\n",
      "    library_dirs = ['C:/ProgramData/Anaconda3\\\\Library\\\\lib']\n",
      "    define_macros = [('SCIPY_MKL_H', None), ('HAVE_CBLAS', None)]\n",
      "    include_dirs = ['C:\\\\Program Files (x86)\\\\IntelSWTools\\\\compilers_and_libraries_2019.0.117\\\\windows\\\\mkl', 'C:\\\\Program Files (x86)\\\\IntelSWTools\\\\compilers_and_libraries_2019.0.117\\\\windows\\\\mkl\\\\include', 'C:\\\\Program Files (x86)\\\\IntelSWTools\\\\compilers_and_libraries_2019.0.117\\\\windows\\\\mkl\\\\lib', 'C:/ProgramData/Anaconda3\\\\Library\\\\include']\n",
      "lapack_mkl_info:\n",
      "    libraries = ['mkl_rt']\n",
      "    library_dirs = ['C:/ProgramData/Anaconda3\\\\Library\\\\lib']\n",
      "    define_macros = [('SCIPY_MKL_H', None), ('HAVE_CBLAS', None)]\n",
      "    include_dirs = ['C:\\\\Program Files (x86)\\\\IntelSWTools\\\\compilers_and_libraries_2019.0.117\\\\windows\\\\mkl', 'C:\\\\Program Files (x86)\\\\IntelSWTools\\\\compilers_and_libraries_2019.0.117\\\\windows\\\\mkl\\\\include', 'C:\\\\Program Files (x86)\\\\IntelSWTools\\\\compilers_and_libraries_2019.0.117\\\\windows\\\\mkl\\\\lib', 'C:/ProgramData/Anaconda3\\\\Library\\\\include']\n",
      "lapack_opt_info:\n",
      "    libraries = ['mkl_rt']\n",
      "    library_dirs = ['C:/ProgramData/Anaconda3\\\\Library\\\\lib']\n",
      "    define_macros = [('SCIPY_MKL_H', None), ('HAVE_CBLAS', None)]\n",
      "    include_dirs = ['C:\\\\Program Files (x86)\\\\IntelSWTools\\\\compilers_and_libraries_2019.0.117\\\\windows\\\\mkl', 'C:\\\\Program Files (x86)\\\\IntelSWTools\\\\compilers_and_libraries_2019.0.117\\\\windows\\\\mkl\\\\include', 'C:\\\\Program Files (x86)\\\\IntelSWTools\\\\compilers_and_libraries_2019.0.117\\\\windows\\\\mkl\\\\lib', 'C:/ProgramData/Anaconda3\\\\Library\\\\include']\n",
      "None\n"
     ]
    }
   ],
   "source": [
    "#2. Print the NUMPY version and the configuration.\n",
    "print(np.__version__)\n",
    "print(np.show_config())"
   ]
  },
  {
   "cell_type": "code",
   "execution_count": null,
   "metadata": {},
   "outputs": [],
   "source": [
    "#3. Generate a 2x3x5 3-dimensional array with random values. Assign the array to variable \"a\"\n",
    "# Challenge: there are at least three easy ways that use numpy to generate random arrays. How many ways can you find?"
   ]
  },
  {
   "cell_type": "code",
   "execution_count": 8,
   "metadata": {},
   "outputs": [],
   "source": [
    "a = np.random.random((2,3,5))"
   ]
  },
  {
   "cell_type": "code",
   "execution_count": 29,
   "metadata": {},
   "outputs": [
    {
     "name": "stdout",
     "output_type": "stream",
     "text": [
      "[[[0.94909959 0.05746008 0.49481124 0.84608901 0.46595802]\n",
      "  [0.15214088 0.33043563 0.51744971 0.7347213  0.77277887]\n",
      "  [0.84776831 0.92832275 0.89984422 0.68482447 0.48605918]]\n",
      "\n",
      " [[0.55364609 0.20645631 0.8093515  0.29027471 0.26082705]\n",
      "  [0.55029208 0.07554715 0.37436598 0.9378983  0.4886881 ]\n",
      "  [0.20353966 0.5218034  0.29924192 0.3032968  0.91186091]]]\n",
      "(2, 3, 5)\n"
     ]
    }
   ],
   "source": [
    "#4. Print a.\n",
    "print(a)\n",
    "print(a.shape)"
   ]
  },
  {
   "cell_type": "code",
   "execution_count": 34,
   "metadata": {},
   "outputs": [],
   "source": [
    "#5. Create a 5x2x3 3-dimensional array with all values equaling 1.\n",
    "#Assign the array to variable \"b\"\n",
    "b=np.random.random((5,3,2))\n",
    "b.fill(1)"
   ]
  },
  {
   "cell_type": "code",
   "execution_count": 35,
   "metadata": {},
   "outputs": [
    {
     "name": "stdout",
     "output_type": "stream",
     "text": [
      "[[[1. 1.]\n",
      "  [1. 1.]\n",
      "  [1. 1.]]\n",
      "\n",
      " [[1. 1.]\n",
      "  [1. 1.]\n",
      "  [1. 1.]]\n",
      "\n",
      " [[1. 1.]\n",
      "  [1. 1.]\n",
      "  [1. 1.]]\n",
      "\n",
      " [[1. 1.]\n",
      "  [1. 1.]\n",
      "  [1. 1.]]\n",
      "\n",
      " [[1. 1.]\n",
      "  [1. 1.]\n",
      "  [1. 1.]]]\n"
     ]
    }
   ],
   "source": [
    "#6. Print b.\n",
    "print(b)"
   ]
  },
  {
   "cell_type": "code",
   "execution_count": 36,
   "metadata": {},
   "outputs": [
    {
     "name": "stdout",
     "output_type": "stream",
     "text": [
      "(2, 3, 5)\n",
      "(5, 3, 2)\n",
      "False\n"
     ]
    },
    {
     "name": "stderr",
     "output_type": "stream",
     "text": [
      "C:\\ProgramData\\Anaconda3\\lib\\site-packages\\ipykernel_launcher.py:4: DeprecationWarning: elementwise comparison failed; this will raise an error in the future.\n",
      "  after removing the cwd from sys.path.\n"
     ]
    }
   ],
   "source": [
    "#7. Do a and b have the same size? How do you prove that in Python code?\n",
    "print(a.shape)\n",
    "print(b.shape)\n",
    "print(a==b) # con la operación booleana comprobamos que no son del mismo tamaño"
   ]
  },
  {
   "cell_type": "code",
   "execution_count": 37,
   "metadata": {},
   "outputs": [
    {
     "ename": "ValueError",
     "evalue": "operands could not be broadcast together with shapes (2,3,5) (5,3,2) ",
     "output_type": "error",
     "traceback": [
      "\u001b[1;31m---------------------------------------------------------------------------\u001b[0m",
      "\u001b[1;31mValueError\u001b[0m                                Traceback (most recent call last)",
      "\u001b[1;32m<ipython-input-37-8ac77cf1e2db>\u001b[0m in \u001b[0;36m<module>\u001b[1;34m\u001b[0m\n\u001b[0;32m      1\u001b[0m \u001b[1;31m#8. Are you able to add a and b? Why or why not?\u001b[0m\u001b[1;33m\u001b[0m\u001b[1;33m\u001b[0m\u001b[1;33m\u001b[0m\u001b[0m\n\u001b[1;32m----> 2\u001b[1;33m \u001b[0ma\u001b[0m\u001b[1;33m+\u001b[0m\u001b[0mb\u001b[0m\u001b[1;33m\u001b[0m\u001b[1;33m\u001b[0m\u001b[0m\n\u001b[0m\u001b[0;32m      3\u001b[0m \u001b[1;31m# el error nos dice que debido a que no son del mismo tamaño no se pueden sumar\u001b[0m\u001b[1;33m\u001b[0m\u001b[1;33m\u001b[0m\u001b[1;33m\u001b[0m\u001b[0m\n",
      "\u001b[1;31mValueError\u001b[0m: operands could not be broadcast together with shapes (2,3,5) (5,3,2) "
     ]
    }
   ],
   "source": [
    "#8. Are you able to add a and b? Why or why not?\n",
    "a+b\n",
    "# el error nos dice que debido a que no son del mismo tamaño no se pueden sumar"
   ]
  },
  {
   "cell_type": "code",
   "execution_count": 38,
   "metadata": {},
   "outputs": [
    {
     "name": "stdout",
     "output_type": "stream",
     "text": [
      "[[[1. 1. 1. 1. 1.]\n",
      "  [1. 1. 1. 1. 1.]\n",
      "  [1. 1. 1. 1. 1.]]\n",
      "\n",
      " [[1. 1. 1. 1. 1.]\n",
      "  [1. 1. 1. 1. 1.]\n",
      "  [1. 1. 1. 1. 1.]]]\n",
      "(2, 3, 5)\n"
     ]
    }
   ],
   "source": [
    "#9. Transpose b so that it has the same structure of a (i.e. become a 2x3x5 array). Assign the transposed array to varialbe \"c\".\n",
    "c=b.transpose()\n",
    "print(c)\n",
    "print(c.shape)"
   ]
  },
  {
   "cell_type": "code",
   "execution_count": 40,
   "metadata": {},
   "outputs": [
    {
     "name": "stdout",
     "output_type": "stream",
     "text": [
      "[[[1.94909959 1.05746008 1.49481124 1.84608901 1.46595802]\n",
      "  [1.15214088 1.33043563 1.51744971 1.7347213  1.77277887]\n",
      "  [1.84776831 1.92832275 1.89984422 1.68482447 1.48605918]]\n",
      "\n",
      " [[1.55364609 1.20645631 1.8093515  1.29027471 1.26082705]\n",
      "  [1.55029208 1.07554715 1.37436598 1.9378983  1.4886881 ]\n",
      "  [1.20353966 1.5218034  1.29924192 1.3032968  1.91186091]]]\n"
     ]
    }
   ],
   "source": [
    "#10. Try to add a and c. Now it should work. Assign the sum to varialbe \"d\". But why does it work now?\n",
    "d=a+c\n",
    "print(d)\n",
    "# la suma es posible porque tienen el mismo tamaño\n",
    "# se tuvo que modificar el ejercicio 5"
   ]
  },
  {
   "cell_type": "code",
   "execution_count": 43,
   "metadata": {},
   "outputs": [
    {
     "name": "stdout",
     "output_type": "stream",
     "text": [
      "[[[0.94909959 0.05746008 0.49481124 0.84608901 0.46595802]\n",
      "  [0.15214088 0.33043563 0.51744971 0.7347213  0.77277887]\n",
      "  [0.84776831 0.92832275 0.89984422 0.68482447 0.48605918]]\n",
      "\n",
      " [[0.55364609 0.20645631 0.8093515  0.29027471 0.26082705]\n",
      "  [0.55029208 0.07554715 0.37436598 0.9378983  0.4886881 ]\n",
      "  [0.20353966 0.5218034  0.29924192 0.3032968  0.91186091]]]\n",
      "--------------------------------------------------------------------------\n",
      "[[[1.94909959 1.05746008 1.49481124 1.84608901 1.46595802]\n",
      "  [1.15214088 1.33043563 1.51744971 1.7347213  1.77277887]\n",
      "  [1.84776831 1.92832275 1.89984422 1.68482447 1.48605918]]\n",
      "\n",
      " [[1.55364609 1.20645631 1.8093515  1.29027471 1.26082705]\n",
      "  [1.55029208 1.07554715 1.37436598 1.9378983  1.4886881 ]\n",
      "  [1.20353966 1.5218034  1.29924192 1.3032968  1.91186091]]]\n"
     ]
    }
   ],
   "source": [
    "#11. Print a and d. Notice the difference and relation of the two array in terms of the values? Explain.\n",
    "print(a)\n",
    "print('--------------------------------------------------------------------------')\n",
    "print(d)\n",
    "# La diferencia de los valores de 'a' y 'd' es 1, debido a que la columna 'c' son relleno con 1's "
   ]
  },
  {
   "cell_type": "code",
   "execution_count": 45,
   "metadata": {},
   "outputs": [
    {
     "name": "stdout",
     "output_type": "stream",
     "text": [
      "[[[0.94909959 0.05746008 0.49481124 0.84608901 0.46595802]\n",
      "  [0.15214088 0.33043563 0.51744971 0.7347213  0.77277887]\n",
      "  [0.84776831 0.92832275 0.89984422 0.68482447 0.48605918]]\n",
      "\n",
      " [[0.55364609 0.20645631 0.8093515  0.29027471 0.26082705]\n",
      "  [0.55029208 0.07554715 0.37436598 0.9378983  0.4886881 ]\n",
      "  [0.20353966 0.5218034  0.29924192 0.3032968  0.91186091]]]\n"
     ]
    }
   ],
   "source": [
    "#12. Multiply a and c. Assign the result to e.\n",
    "e=a*c"
   ]
  },
  {
   "cell_type": "code",
   "execution_count": 46,
   "metadata": {},
   "outputs": [
    {
     "name": "stdout",
     "output_type": "stream",
     "text": [
      "[[[0.94909959 0.05746008 0.49481124 0.84608901 0.46595802]\n",
      "  [0.15214088 0.33043563 0.51744971 0.7347213  0.77277887]\n",
      "  [0.84776831 0.92832275 0.89984422 0.68482447 0.48605918]]\n",
      "\n",
      " [[0.55364609 0.20645631 0.8093515  0.29027471 0.26082705]\n",
      "  [0.55029208 0.07554715 0.37436598 0.9378983  0.4886881 ]\n",
      "  [0.20353966 0.5218034  0.29924192 0.3032968  0.91186091]]]\n",
      "--------------------------------------------------------------------------\n",
      "[[[0.94909959 0.05746008 0.49481124 0.84608901 0.46595802]\n",
      "  [0.15214088 0.33043563 0.51744971 0.7347213  0.77277887]\n",
      "  [0.84776831 0.92832275 0.89984422 0.68482447 0.48605918]]\n",
      "\n",
      " [[0.55364609 0.20645631 0.8093515  0.29027471 0.26082705]\n",
      "  [0.55029208 0.07554715 0.37436598 0.9378983  0.4886881 ]\n",
      "  [0.20353966 0.5218034  0.29924192 0.3032968  0.91186091]]]\n"
     ]
    }
   ],
   "source": [
    "#13. Does e equal to a? Why or why not?\n",
    "# es el mismo valor ya que cualquier valor multiplicado por la unidad seguira siendo el mismo valor\n",
    "print(e)\n",
    "print('--------------------------------------------------------------------------')\n",
    "print(a)"
   ]
  },
  {
   "cell_type": "code",
   "execution_count": 49,
   "metadata": {},
   "outputs": [
    {
     "name": "stdout",
     "output_type": "stream",
     "text": [
      "1.5318284405212899 1.949099587095123 1.05746007790379\n"
     ]
    }
   ],
   "source": [
    "#14. Identify the max, min, and mean values in d. Assign those values to variables \"d_max\", \"d_min\", and \"d_mean\"\n",
    "d_mean=d.mean()\n",
    "d_max=d.max()\n",
    "d_min=d.min()\n",
    "print(d_mean, d_max, d_min)"
   ]
  },
  {
   "cell_type": "code",
   "execution_count": 69,
   "metadata": {},
   "outputs": [
    {
     "name": "stdout",
     "output_type": "stream",
     "text": [
      "[[[0.94909959 0.05746008 0.49481124 0.84608901 0.46595802]\n",
      "  [0.15214088 0.33043563 0.51744971 0.7347213  0.77277887]\n",
      "  [0.84776831 0.92832275 0.89984422 0.68482447 0.48605918]]\n",
      "\n",
      " [[0.55364609 0.20645631 0.8093515  0.29027471 0.26082705]\n",
      "  [0.55029208 0.07554715 0.37436598 0.9378983  0.4886881 ]\n",
      "  [0.20353966 0.5218034  0.29924192 0.3032968  0.91186091]]]\n",
      "---------------------------------------------------------------------------\n",
      "[[[1.94909959 1.05746008 1.49481124 1.84608901 1.46595802]\n",
      "  [1.15214088 1.33043563 1.51744971 1.7347213  1.77277887]\n",
      "  [1.84776831 1.92832275 1.89984422 1.68482447 1.48605918]]\n",
      "\n",
      " [[1.55364609 1.20645631 1.8093515  1.29027471 1.26082705]\n",
      "  [1.55029208 1.07554715 1.37436598 1.9378983  1.4886881 ]\n",
      "  [1.20353966 1.5218034  1.29924192 1.3032968  1.91186091]]]\n"
     ]
    }
   ],
   "source": [
    "#15. Now we want to label the values in d. First create an empty array \"f\" with the same shape (i.e. 2x3x5) as d using `np.empty`.\n",
    "f=np.empty([2,3,5],float)\n",
    "print(f)\n",
    "print('---------------------------------------------------------------------------')\n",
    "print(d)"
   ]
  },
  {
   "cell_type": "code",
   "execution_count": 111,
   "metadata": {},
   "outputs": [
    {
     "name": "stdout",
     "output_type": "stream",
     "text": [
      "[[[0.94909959 0.05746008 0.49481124 0.84608901 0.46595802]\n",
      "  [0.15214088 0.33043563 0.51744971 0.7347213  0.77277887]\n",
      "  [0.84776831 0.92832275 0.89984422 0.68482447 0.48605918]]\n",
      "\n",
      " [[0.55364609 0.20645631 0.8093515  0.29027471 0.26082705]\n",
      "  [0.55029208 0.07554715 0.37436598 0.9378983  0.4886881 ]\n",
      "  [0.20353966 0.5218034  0.29924192 0.3032968  0.91186091]]]\n"
     ]
    }
   ],
   "source": [
    "\n",
    "#16. Populate the values in f. For each value in d, if it's larger than d_min but smaller than d_mean, \n",
    "#    assign 25 to the corresponding value in f.\n",
    "# If a value in d is larger than d_mean but smaller than d_max, assign 75 to the corresponding value in f.\n",
    "# If a value equals to d_mean, assign 50 to the corresponding value in f.\n",
    "# Assign 0 to the corresponding value(s) in f for d_min in d.\n",
    "# Assign 100 to the corresponding value(s) in f for d_max in d.\n",
    "# In the end, f should have only the following values: 0, 25, 50, 75, and 100.\n",
    "# Note: you don't have to use Numpy in this question.\n",
    "subsf=f.copy()\n",
    "print(subsf)"
   ]
  },
  {
   "cell_type": "code",
   "execution_count": 161,
   "metadata": {},
   "outputs": [
    {
     "name": "stdout",
     "output_type": "stream",
     "text": [
      "[[[100.   0.  25.  75.  25.]\n",
      "  [ 25.  25.  25.  75.  75.]\n",
      "  [ 75.  75.  75.  75.  25.]]\n",
      "\n",
      " [[ 75.  25.  75.  25.  25.]\n",
      "  [ 75.  25.  25.  75.  25.]\n",
      "  [ 25.  25.  25.  25.  75.]]]\n"
     ]
    },
    {
     "data": {
      "text/plain": [
       "(2, 3, 5)"
      ]
     },
     "execution_count": 161,
     "metadata": {},
     "output_type": "execute_result"
    }
   ],
   "source": [
    "# Ejercicio 17\n",
    "for i in range(len(d)):\n",
    "    for j in range(len(d[i])):\n",
    "        for k in range(len(d[i][j])):\n",
    "            if (d[i][j][k] > d_min) and (d[i][j][k] < d_mean):\n",
    "                subsf[i][j][k]=25\n",
    "            elif (d[i][j][k] > d_mean) and (d[i][j][k] < d_max):\n",
    "                subsf[i][j][k]=75\n",
    "            elif (d[i][j][k] == d_min):\n",
    "                subsf[i][j][k] = 0\n",
    "            elif (d[i][j][k] == d_mean):\n",
    "                subsf[i][j][k] = 50\n",
    "            elif (d[i][j][k] == d_max):\n",
    "                subsf[i][j][k] = 100\n",
    "print(subsf)\n",
    "np.shape(subsf)"
   ]
  },
  {
   "cell_type": "code",
   "execution_count": 164,
   "metadata": {},
   "outputs": [
    {
     "ename": "IndexError",
     "evalue": "index 2 is out of bounds for axis 0 with size 2",
     "output_type": "error",
     "traceback": [
      "\u001b[1;31m---------------------------------------------------------------------------\u001b[0m",
      "\u001b[1;31mIndexError\u001b[0m                                Traceback (most recent call last)",
      "\u001b[1;32m<ipython-input-164-d41f9cae9891>\u001b[0m in \u001b[0;36m<module>\u001b[1;34m\u001b[0m\n\u001b[0;32m     12\u001b[0m \u001b[1;33m\u001b[0m\u001b[0m\n\u001b[0;32m     13\u001b[0m \u001b[0mletrasf\u001b[0m \u001b[1;33m=\u001b[0m \u001b[0msubsf\u001b[0m\u001b[1;33m.\u001b[0m\u001b[0mcopy\u001b[0m\u001b[1;33m(\u001b[0m\u001b[1;33m)\u001b[0m\u001b[1;33m\u001b[0m\u001b[1;33m\u001b[0m\u001b[0m\n\u001b[1;32m---> 14\u001b[1;33m \u001b[0ml\u001b[0m\u001b[1;33m=\u001b[0m\u001b[0mnp\u001b[0m\u001b[1;33m.\u001b[0m\u001b[0marray\u001b[0m\u001b[1;33m(\u001b[0m\u001b[0mletrasf\u001b[0m\u001b[1;33m[\u001b[0m\u001b[1;36m2\u001b[0m\u001b[1;33m,\u001b[0m \u001b[1;36m3\u001b[0m\u001b[1;33m,\u001b[0m \u001b[1;36m5\u001b[0m\u001b[1;33m]\u001b[0m\u001b[1;33m,\u001b[0m \u001b[0mdtype\u001b[0m\u001b[1;33m=\u001b[0m\u001b[1;34m'str'\u001b[0m\u001b[1;33m)\u001b[0m\u001b[1;33m\u001b[0m\u001b[1;33m\u001b[0m\u001b[0m\n\u001b[0m\u001b[0;32m     15\u001b[0m \u001b[1;32mfor\u001b[0m \u001b[0mi\u001b[0m \u001b[1;32min\u001b[0m \u001b[0mrange\u001b[0m\u001b[1;33m(\u001b[0m\u001b[0mlen\u001b[0m\u001b[1;33m(\u001b[0m\u001b[0ml\u001b[0m\u001b[1;33m)\u001b[0m\u001b[1;33m)\u001b[0m\u001b[1;33m:\u001b[0m\u001b[1;33m\u001b[0m\u001b[1;33m\u001b[0m\u001b[0m\n\u001b[0;32m     16\u001b[0m     \u001b[1;32mfor\u001b[0m \u001b[0mj\u001b[0m \u001b[1;32min\u001b[0m \u001b[0mrange\u001b[0m\u001b[1;33m(\u001b[0m\u001b[0mlen\u001b[0m\u001b[1;33m(\u001b[0m\u001b[0ml\u001b[0m\u001b[1;33m[\u001b[0m\u001b[0mi\u001b[0m\u001b[1;33m]\u001b[0m\u001b[1;33m)\u001b[0m\u001b[1;33m)\u001b[0m\u001b[1;33m:\u001b[0m\u001b[1;33m\u001b[0m\u001b[1;33m\u001b[0m\u001b[0m\n",
      "\u001b[1;31mIndexError\u001b[0m: index 2 is out of bounds for axis 0 with size 2"
     ]
    }
   ],
   "source": [
    "# Ejercicio 18 Bonus\n",
    "#18. Bonus question: instead of using numbers (i.e. 0, 25, 50, 75, and 100), how to use string values \n",
    "# (\"A\", \"B\", \"C\", \"D\", and \"E\") to label the array elements? You are expecting the result to be:\n",
    "# array([[[ 'D',  'D',  'D',  'B',  'D'],\n",
    "#         [ 'D',  'D',  'B',  'B',  'B'],\n",
    "#         [ 'D',  'B',  'D',  'D',  'D']],\n",
    "#\n",
    "#        [[ 'B',  'B',  'B',  'B',  'E'],\n",
    "#         [ 'D',  'D',  'D',  'D',  'D'],\n",
    "#         [ 'B',  'D',   'A',  'D', 'D']]])\n",
    "# Again, you don't need Numpy in this question.\n",
    "\n",
    "letrasf = subsf.copy()\n",
    "l=np.array(letrasf[2, 3, 5], dtype='str')\n",
    "for i in range(len(l)):\n",
    "    for j in range(len(l[i])):\n",
    "        for k in range(len(l[i][j])):\n",
    "            if (l[i][j][k] == '0'):\n",
    "                letrasf[i][j][k]= 'A'\n",
    "            elif (l[i][j][k] == '25'):\n",
    "                letrasf[i][j][k]= 'B'\n",
    "            elif (l[i][j][k] == '50'):\n",
    "                letrasf[i][j][k] = 'C'\n",
    "            elif (l[i][j][k] == '75'):\n",
    "                letrasf[i][j][k] = 'D'\n",
    "            elif (l[i][j][k] == '100'):\n",
    "                letrasf[i][j][k] = 'E'\n",
    "print(letrasf)"
   ]
  },
  {
   "cell_type": "code",
   "execution_count": null,
   "metadata": {},
   "outputs": [],
   "source": [
    "for i in letrasff:\n",
    "    if i == '0':\n",
    "        i = 'A'\n",
    "    elif i == '25':\n",
    "        i = 'B'\n",
    "    elif i == '50':\n",
    "        i = 'C'\n",
    "    elif i == '75':\n",
    "        i = 'D'\n",
    "    elif i == '100':\n",
    "        i = 'E'"
   ]
  }
 ],
 "metadata": {
  "kernelspec": {
   "display_name": "Python 3",
   "language": "python",
   "name": "python3"
  },
  "language_info": {
   "codemirror_mode": {
    "name": "ipython",
    "version": 3
   },
   "file_extension": ".py",
   "mimetype": "text/x-python",
   "name": "python",
   "nbconvert_exporter": "python",
   "pygments_lexer": "ipython3",
   "version": "3.7.4"
  }
 },
 "nbformat": 4,
 "nbformat_minor": 2
}
